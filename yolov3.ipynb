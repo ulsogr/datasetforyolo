{
  "metadata": {
    "accelerator": "GPU",
    "colab": {
      "provenance": [],
      "name": "yolov3",
      "gpuType": "T4",
      "include_colab_link": true
    },
    "kernelspec": {
      "display_name": "Python 3",
      "name": "python3"
    },
    "language_info": {
      "name": ""
    }
  },
  "nbformat_minor": 0,
  "nbformat": 4,
  "cells": [
    {
      "cell_type": "markdown",
      "metadata": {
        "id": "view-in-github",
        "colab_type": "text"
      },
      "source": [
        "<a href=\"https://colab.research.google.com/github/ulsogr/datasetforyolo/blob/main/yolov3.ipynb\" target=\"_parent\"><img src=\"https://colab.research.google.com/assets/colab-badge.svg\" alt=\"Open In Colab\"/></a>"
      ]
    },
    {
      "cell_type": "markdown",
      "source": [
        "**Connect google drive**"
      ],
      "metadata": {
        "id": "wHBQcQzjD6HJ"
      }
    },
    {
      "cell_type": "code",
      "source": [
        "# Check if NVIDIA GPU is enabled\n",
        "!nvidia-smi"
      ],
      "metadata": {
        "id": "bwp6NIrsZZFP",
        "vscode": {
          "languageId": "python"
        }
      },
      "execution_count": null,
      "outputs": []
    },
    {
      "cell_type": "code",
      "source": [
        "!git clone https://github.com/ulsogr/datasetforyolo.git\n"
      ],
      "metadata": {
        "id": "H28Fgiu3lHF9"
      },
      "execution_count": null,
      "outputs": []
    },
    {
      "cell_type": "code",
      "source": [
        "import shutil\n",
        "import os\n",
        "\n",
        "# GitHub reposundan klonlanan dizin\n",
        "github_path = '/content/datasetforyolo'\n",
        "\n",
        "# Google Drive'da oluşturulacak klasör yolu\n",
        "drive_folder = '/content/gdrive/My Drive/'\n",
        "\n",
        "# Google Drive'da klasörü oluştur\n",
        "os.makedirs(drive_folder, exist_ok=True)\n",
        "\n",
        "# images.zip dosyasını Google Drive'a kopyala\n",
        "shutil.copy(os.path.join(github_path, 'images.zip'), os.path.join(drive_folder, 'images.zip'))"
      ],
      "metadata": {
        "id": "w3-ZSFmJn7Ri"
      },
      "execution_count": null,
      "outputs": []
    },
    {
      "cell_type": "code",
      "source": [
        "from google.colab import drive\n",
        "drive.mount('/content/gdrive')\n",
        "!ln -s /content/gdrive/My\\ Drive/ /mydrive\n",
        "!ls /mydrive"
      ],
      "metadata": {
        "id": "9e9ZW3sqMEPO",
        "vscode": {
          "languageId": "python"
        }
      },
      "execution_count": null,
      "outputs": []
    },
    {
      "cell_type": "markdown",
      "source": [
        "**1) Clone the Darknet**\n",
        "\n"
      ],
      "metadata": {
        "id": "t7utW4in4azV"
      }
    },
    {
      "cell_type": "code",
      "source": [
        "!git clone https://github.com/AlexeyAB/darknet"
      ],
      "metadata": {
        "colab": {
          "base_uri": "https://localhost:8080/"
        },
        "id": "e03U7Zi-qMr2",
        "vscode": {
          "languageId": "python"
        },
        "outputId": "159a47c3-05fd-4e32-e7f7-f266c1aeba8f"
      },
      "execution_count": 8,
      "outputs": [
        {
          "output_type": "stream",
          "name": "stdout",
          "text": [
            "Cloning into 'darknet'...\n",
            "remote: Enumerating objects: 15833, done.\u001b[K\n",
            "remote: Total 15833 (delta 0), reused 0 (delta 0), pack-reused 15833\u001b[K\n",
            "Receiving objects: 100% (15833/15833), 14.39 MiB | 22.35 MiB/s, done.\n",
            "Resolving deltas: 100% (10666/10666), done.\n"
          ]
        }
      ]
    },
    {
      "cell_type": "markdown",
      "source": [
        "**2) Compile Darknet using Nvidia GPU**\n"
      ],
      "metadata": {
        "id": "7gDOF3mU-TAn"
      }
    },
    {
      "cell_type": "code",
      "source": [
        "# change makefile to have GPU and OPENCV enabled\n",
        "%cd darknet\n",
        "!sed -i 's/OPENCV=0/OPENCV=1/' Makefile\n",
        "!sed -i 's/GPU=0/GPU=1/' Makefile\n",
        "!sed -i 's/CUDNN=0/CUDNN=1/' Makefile\n",
        "!make"
      ],
      "metadata": {
        "id": "5H-Taj06Tw1c",
        "vscode": {
          "languageId": "python"
        }
      },
      "execution_count": null,
      "outputs": []
    },
    {
      "cell_type": "markdown",
      "source": [
        "**3) Configure Darknet network for training YOLO V3**"
      ],
      "metadata": {
        "id": "gAOLtA_qI9vF"
      }
    },
    {
      "cell_type": "code",
      "source": [
        "!cp cfg/yolov3.cfg cfg/yolov3_training.cfg"
      ],
      "metadata": {
        "id": "s-RpscgU853t",
        "vscode": {
          "languageId": "python"
        }
      },
      "execution_count": 10,
      "outputs": []
    },
    {
      "cell_type": "code",
      "source": [
        "!sed -i 's/batch=1/batch=64/' cfg/yolov3_training.cfg\n",
        "!sed -i 's/subdivisions=1/subdivisions=16/' cfg/yolov3_training.cfg\n",
        "!sed -i 's/max_batches = 500200/max_batches = 4000/' cfg/yolov3_training.cfg\n",
        "!sed -i '610 s@classes=80@classes=1@' cfg/yolov3_training.cfg\n",
        "!sed -i '696 s@classes=80@classes=1@' cfg/yolov3_training.cfg\n",
        "!sed -i '783 s@classes=80@classes=1@' cfg/yolov3_training.cfg\n",
        "!sed -i '603 s@filters=255@filters=18@' cfg/yolov3_training.cfg\n",
        "!sed -i '689 s@filters=255@filters=18@' cfg/yolov3_training.cfg\n",
        "!sed -i '776 s@filters=255@filters=18@' cfg/yolov3_training.cfg"
      ],
      "metadata": {
        "id": "5ZgVQRop_vwR",
        "vscode": {
          "languageId": "python"
        }
      },
      "execution_count": 11,
      "outputs": []
    },
    {
      "cell_type": "code",
      "source": [
        "# Create folder on google drive so that we can save there the weights\n",
        "!mkdir \"/mydrive/yolov3\""
      ],
      "metadata": {
        "id": "nscRN-X2Mr3d",
        "vscode": {
          "languageId": "python"
        }
      },
      "execution_count": 12,
      "outputs": []
    },
    {
      "cell_type": "code",
      "source": [
        "\n",
        "!echo \"rollar\" > data/obj.names\n",
        "!echo -e 'classes= 1\\ntrain  = data/train.txt\\nvalid  = data/test.txt\\nnames = data/obj.names\\nbackup = /mydrive/yolov3' > data/obj.data\n",
        "!mkdir data/obj"
      ],
      "metadata": {
        "id": "7AIBw_psIclz",
        "vscode": {
          "languageId": "python"
        }
      },
      "execution_count": 13,
      "outputs": []
    },
    {
      "cell_type": "code",
      "source": [
        "# Download weights darknet model 53\n",
        "!wget https://pjreddie.com/media/files/darknet53.conv.74"
      ],
      "metadata": {
        "id": "eZlkzFMW7I_N",
        "vscode": {
          "languageId": "python"
        }
      },
      "execution_count": null,
      "outputs": []
    },
    {
      "cell_type": "markdown",
      "source": [
        "**4) Extract Images**\n",
        "\n",
        "The images need to be inside a zip archive called \"images.zip\" and they need to be inside the folder \"yolov3\" on Google Drive"
      ],
      "metadata": {
        "id": "9RbVKJjoncW2"
      }
    },
    {
      "cell_type": "code",
      "source": [
        "!unzip /mydrive/yolov3/images.zip -d data/obj"
      ],
      "metadata": {
        "id": "jhb5nZvsQ_96",
        "vscode": {
          "languageId": "python"
        }
      },
      "execution_count": null,
      "outputs": []
    },
    {
      "cell_type": "code",
      "source": [
        "# We're going to convert the class index on the .txt files. As we're working with only one class, it's supposed to be class 0.\n",
        "# If the index is different from 0 then we're going to change it.\n",
        "import glob\n",
        "import os\n",
        "import re\n",
        "\n",
        "txt_file_paths = glob.glob(r\"data/obj/*.txt\")\n",
        "for i, file_path in enumerate(txt_file_paths):\n",
        "    # get image size\n",
        "    with open(file_path, \"r\") as f_o:\n",
        "        lines = f_o.readlines()\n",
        "\n",
        "        text_converted = []\n",
        "        for line in lines:\n",
        "            print(line)\n",
        "            numbers = re.findall(\"[0-9.]+\", line)\n",
        "            print(numbers)\n",
        "            if numbers:\n",
        "\n",
        "                # Define coordinates\n",
        "                text = \"{} {} {} {} {}\".format(0, numbers[1], numbers[2], numbers[3], numbers[4])\n",
        "                text_converted.append(text)\n",
        "                print(i, file_path)\n",
        "                print(text)\n",
        "        # Write file\n",
        "        with open(file_path, 'w') as fp:\n",
        "            for item in text_converted:\n",
        "                fp.writelines(\"%s\\n\" % item)"
      ],
      "metadata": {
        "id": "DGUyXxeYX0IP",
        "vscode": {
          "languageId": "python"
        }
      },
      "execution_count": 16,
      "outputs": []
    },
    {
      "cell_type": "code",
      "source": [
        "import glob\n",
        "images_list = glob.glob(\"data/obj/*.jpg\")\n",
        "# You can change extension of your images (now jpeg)\n",
        "print(images_list)"
      ],
      "metadata": {
        "id": "5I_0ht7ITMUu",
        "vscode": {
          "languageId": "python"
        }
      },
      "execution_count": null,
      "outputs": []
    },
    {
      "cell_type": "code",
      "source": [
        "#Create training.txt file\n",
        "file = open(\"data/train.txt\", \"w\")\n",
        "file.write(\"\\n\".join(images_list))\n",
        "file.close()"
      ],
      "metadata": {
        "id": "EzygoAtMSnon",
        "vscode": {
          "languageId": "python"
        }
      },
      "execution_count": 18,
      "outputs": []
    },
    {
      "cell_type": "markdown",
      "source": [
        "**6) Start the training**"
      ],
      "metadata": {
        "id": "CeSiuLrXoAjc"
      }
    },
    {
      "cell_type": "code",
      "source": [
        "# Start the training\n",
        "!./darknet detector train data/obj.data cfg/yolov3_training.cfg darknet53.conv.74 -dont_show"
      ],
      "metadata": {
        "id": "S3_g3jclUzMm",
        "vscode": {
          "languageId": "python"
        }
      },
      "execution_count": null,
      "outputs": []
    }
  ]
}